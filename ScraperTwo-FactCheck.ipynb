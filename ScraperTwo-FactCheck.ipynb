{
 "cells": [
  {
   "cell_type": "code",
   "execution_count": 5,
   "id": "16fdcfa5",
   "metadata": {},
   "outputs": [],
   "source": [
    "## The below code is used to download and install the required packages\n",
    "# List the packages required here\n",
    "required = {'pandas', 'numpy','requests',  'BeautifulSoup4', 'lxml', 'selenium', 'webdriver-manager'}\n",
    "\n",
    "import sys\n",
    "import subprocess\n",
    "import pkg_resources\n",
    "\n",
    "installed = {pkg.key for pkg in pkg_resources.working_set}\n",
    "missing = required - installed\n",
    "\n",
    "import os\n",
    "\n",
    "os.getcwd()\n",
    "\n",
    "if missing:\n",
    "    # implement pip as a subprocess:\n",
    "    subprocess.check_call([sys.executable, '-m', 'pip', 'install', *missing])\n",
    "\n",
    "del required, installed, missing"
   ]
  },
  {
   "cell_type": "code",
   "execution_count": 6,
   "id": "9fb32c38",
   "metadata": {},
   "outputs": [],
   "source": [
    "from bs4 import BeautifulSoup\n",
    "import requests\n",
    "import time\n",
    "import pandas as pd\n",
    "from webdriver_manager.chrome import ChromeDriverManager\n",
    "from selenium import webdriver\n",
    "from selenium.webdriver.common.keys import Keys\n",
    "from selenium.webdriver.common.by import By\n",
    "from selenium.webdriver.support.wait import WebDriverWait\n",
    "from selenium.webdriver.support import expected_conditions as EC"
   ]
  },
  {
   "cell_type": "code",
   "execution_count": 7,
   "id": "55b36713",
   "metadata": {},
   "outputs": [
    {
     "name": "stderr",
     "output_type": "stream",
     "text": [
      "C:\\Users\\seahm\\AppData\\Local\\Temp\\ipykernel_2476\\4182086039.py:5: DeprecationWarning: executable_path has been deprecated, please pass in a Service object\n",
      "  driver = webdriver.Chrome(ChromeDriverManager().install())\n"
     ]
    }
   ],
   "source": [
    "page_number = 1\n",
    "site = 'https://www.factcheck.org/issue/coronavirus/page/' + str(page_number) + '/'\n",
    "list_url_factcheck = list()\n",
    "\n",
    "driver = webdriver.Chrome(ChromeDriverManager().install())\n",
    "driver.get(site)\n",
    "wait = WebDriverWait(driver,3)\n",
    "\n",
    "def scrape_site():\n",
    "\n",
    "    global page_number\n",
    "    \n",
    "    while page_number <= 48:\n",
    "        scrape_page()\n",
    "        driver.get(next_page)\n",
    "        wait\n",
    "    driver.quit()\n",
    "\n",
    "def scrape_page():\n",
    "    url = driver.find_elements(By.XPATH, \"//h3[contains(@class, 'entry-title')]/a\")\n",
    "\n",
    "    global list_url_factcheck\n",
    "    for link in url:\n",
    "        list_url_factcheck.append(link.get_attribute(\"href\"))\n",
    "    \n",
    "    global page_number\n",
    "    page_number += 1\n",
    "    \n",
    "    global next_page\n",
    "    next_page = 'https://www.factcheck.org/issue/coronavirus/page/' + str(page_number) + '/'\n",
    "\n",
    "scrape_site()"
   ]
  },
  {
   "cell_type": "code",
   "execution_count": 8,
   "id": "524dd093",
   "metadata": {},
   "outputs": [
    {
     "data": {
      "text/html": [
       "<div>\n",
       "<style scoped>\n",
       "    .dataframe tbody tr th:only-of-type {\n",
       "        vertical-align: middle;\n",
       "    }\n",
       "\n",
       "    .dataframe tbody tr th {\n",
       "        vertical-align: top;\n",
       "    }\n",
       "\n",
       "    .dataframe thead th {\n",
       "        text-align: right;\n",
       "    }\n",
       "</style>\n",
       "<table border=\"1\" class=\"dataframe\">\n",
       "  <thead>\n",
       "    <tr style=\"text-align: right;\">\n",
       "      <th></th>\n",
       "      <th>URL</th>\n",
       "    </tr>\n",
       "  </thead>\n",
       "  <tbody>\n",
       "    <tr>\n",
       "      <th>0</th>\n",
       "      <td>https://www.factcheck.org/2022/11/scicheck-bod...</td>\n",
       "    </tr>\n",
       "    <tr>\n",
       "      <th>1</th>\n",
       "      <td>https://www.factcheck.org/2022/10/scicheck-soc...</td>\n",
       "    </tr>\n",
       "    <tr>\n",
       "      <th>2</th>\n",
       "      <td>https://www.factcheck.org/2022/10/scicheck-sta...</td>\n",
       "    </tr>\n",
       "    <tr>\n",
       "      <th>3</th>\n",
       "      <td>https://www.factcheck.org/2022/10/scicheck-its...</td>\n",
       "    </tr>\n",
       "    <tr>\n",
       "      <th>4</th>\n",
       "      <td>https://www.factcheck.org/2022/10/in-context-l...</td>\n",
       "    </tr>\n",
       "    <tr>\n",
       "      <th>...</th>\n",
       "      <td>...</td>\n",
       "    </tr>\n",
       "    <tr>\n",
       "      <th>473</th>\n",
       "      <td>https://www.factcheck.org/2020/01/new-coronavi...</td>\n",
       "    </tr>\n",
       "    <tr>\n",
       "      <th>474</th>\n",
       "      <td>https://www.factcheck.org/2020/01/coronavirus-...</td>\n",
       "    </tr>\n",
       "    <tr>\n",
       "      <th>475</th>\n",
       "      <td>https://www.factcheck.org/2020/01/misinformati...</td>\n",
       "    </tr>\n",
       "    <tr>\n",
       "      <th>476</th>\n",
       "      <td>https://www.factcheck.org/2020/01/comedian-sam...</td>\n",
       "    </tr>\n",
       "    <tr>\n",
       "      <th>477</th>\n",
       "      <td>https://www.factcheck.org/2020/01/social-media...</td>\n",
       "    </tr>\n",
       "  </tbody>\n",
       "</table>\n",
       "<p>478 rows × 1 columns</p>\n",
       "</div>"
      ],
      "text/plain": [
       "                                                   URL\n",
       "0    https://www.factcheck.org/2022/11/scicheck-bod...\n",
       "1    https://www.factcheck.org/2022/10/scicheck-soc...\n",
       "2    https://www.factcheck.org/2022/10/scicheck-sta...\n",
       "3    https://www.factcheck.org/2022/10/scicheck-its...\n",
       "4    https://www.factcheck.org/2022/10/in-context-l...\n",
       "..                                                 ...\n",
       "473  https://www.factcheck.org/2020/01/new-coronavi...\n",
       "474  https://www.factcheck.org/2020/01/coronavirus-...\n",
       "475  https://www.factcheck.org/2020/01/misinformati...\n",
       "476  https://www.factcheck.org/2020/01/comedian-sam...\n",
       "477  https://www.factcheck.org/2020/01/social-media...\n",
       "\n",
       "[478 rows x 1 columns]"
      ]
     },
     "execution_count": 8,
     "metadata": {},
     "output_type": "execute_result"
    }
   ],
   "source": [
    "df = pd.DataFrame(list(zip(list_url_factcheck)),\n",
    "               columns =['URL'])\n",
    "df"
   ]
  },
  {
   "cell_type": "code",
   "execution_count": 9,
   "id": "147c072c",
   "metadata": {},
   "outputs": [],
   "source": [
    "df.to_csv(r'C:\\Users\\seahm\\OneDrive\\京大社会健康\\研究課題\\scraper\\FactCheck.csv', mode='a', index=False, header=False)"
   ]
  },
  {
   "cell_type": "code",
   "execution_count": null,
   "id": "be3b90f6",
   "metadata": {},
   "outputs": [],
   "source": []
  }
 ],
 "metadata": {
  "kernelspec": {
   "display_name": "Python 3 (ipykernel)",
   "language": "python",
   "name": "python3"
  },
  "language_info": {
   "codemirror_mode": {
    "name": "ipython",
    "version": 3
   },
   "file_extension": ".py",
   "mimetype": "text/x-python",
   "name": "python",
   "nbconvert_exporter": "python",
   "pygments_lexer": "ipython3",
   "version": "3.9.12"
  }
 },
 "nbformat": 4,
 "nbformat_minor": 5
}
