{
 "cells": [
  {
   "cell_type": "code",
   "execution_count": 1,
   "id": "16fdcfa5",
   "metadata": {},
   "outputs": [],
   "source": [
    "## The below code is used to download and install the required packages\n",
    "# List the packages required here\n",
    "required = {'pandas', 'numpy','requests',  'BeautifulSoup4', 'lxml', 'selenium', 'webdriver-manager'}\n",
    "\n",
    "import sys\n",
    "import subprocess\n",
    "import pkg_resources\n",
    "\n",
    "installed = {pkg.key for pkg in pkg_resources.working_set}\n",
    "missing = required - installed\n",
    "\n",
    "import os\n",
    "\n",
    "os.getcwd()\n",
    "\n",
    "if missing:\n",
    "    # implement pip as a subprocess:\n",
    "    subprocess.check_call([sys.executable, '-m', 'pip', 'install', *missing])\n",
    "\n",
    "del required, installed, missing"
   ]
  },
  {
   "cell_type": "code",
   "execution_count": 3,
   "id": "9fb32c38",
   "metadata": {},
   "outputs": [],
   "source": [
    "from bs4 import BeautifulSoup\n",
    "import requests\n",
    "import time\n",
    "import pandas as pd\n",
    "from webdriver_manager.chrome import ChromeDriverManager\n",
    "from selenium import webdriver\n",
    "from selenium.webdriver.common.keys import Keys\n",
    "from selenium.webdriver.common.by import By\n",
    "from selenium.webdriver.support.wait import WebDriverWait\n",
    "from selenium.webdriver.support import expected_conditions as EC"
   ]
  },
  {
   "cell_type": "code",
   "execution_count": 5,
   "id": "55b36713",
   "metadata": {},
   "outputs": [
    {
     "name": "stderr",
     "output_type": "stream",
     "text": [
      "C:\\Users\\seahm\\AppData\\Local\\Temp\\ipykernel_3140\\2680449114.py:6: DeprecationWarning: executable_path has been deprecated, please pass in a Service object\n",
      "  driver = webdriver.Chrome(ChromeDriverManager().install())\n"
     ]
    }
   ],
   "source": [
    "page_number = 1\n",
    "site = 'https://www.politifact.com/factchecks/list/?page=' + str(page_number) + '&category=coronavirus'\n",
    "list_url_politifact = list()\n",
    "SCROLL_PAUSE_TIME = 4\n",
    "\n",
    "driver = webdriver.Chrome(ChromeDriverManager().install())\n",
    "driver.get(site)\n",
    "wait = WebDriverWait(driver,3)\n",
    "    \n",
    "time.sleep(SCROLL_PAUSE_TIME)\n",
    "\n",
    "def scrape_site():\n",
    "\n",
    "    global page_number\n",
    "    \n",
    "    # while page_number <= 24:\n",
    "    while page_number <= 47:\n",
    "        scrape_page()\n",
    "        driver.get(next_page)\n",
    "        wait\n",
    "    driver.quit()\n",
    "\n",
    "def scrape_page():\n",
    "    url = driver.find_elements(By.XPATH, \"//div[contains(@class, 'm-statement__quote')]/a\")\n",
    "\n",
    "    global list_url_politifact\n",
    "    for link in url:\n",
    "        list_url_politifact.append(link.get_attribute(\"href\"))\n",
    "    \n",
    "    global page_number\n",
    "    page_number += 1\n",
    "    \n",
    "    global next_page\n",
    "    next_page = 'https://www.politifact.com/factchecks/list/?page=' + str(page_number) + '&category=coronavirus'\n",
    "\n",
    "scrape_site()"
   ]
  },
  {
   "cell_type": "code",
   "execution_count": 6,
   "id": "524dd093",
   "metadata": {},
   "outputs": [
    {
     "data": {
      "text/html": [
       "<div>\n",
       "<style scoped>\n",
       "    .dataframe tbody tr th:only-of-type {\n",
       "        vertical-align: middle;\n",
       "    }\n",
       "\n",
       "    .dataframe tbody tr th {\n",
       "        vertical-align: top;\n",
       "    }\n",
       "\n",
       "    .dataframe thead th {\n",
       "        text-align: right;\n",
       "    }\n",
       "</style>\n",
       "<table border=\"1\" class=\"dataframe\">\n",
       "  <thead>\n",
       "    <tr style=\"text-align: right;\">\n",
       "      <th></th>\n",
       "      <th>URL</th>\n",
       "    </tr>\n",
       "  </thead>\n",
       "  <tbody>\n",
       "    <tr>\n",
       "      <th>0</th>\n",
       "      <td>https://www.politifact.com/factchecks/2022/nov...</td>\n",
       "    </tr>\n",
       "    <tr>\n",
       "      <th>1</th>\n",
       "      <td>https://www.politifact.com/factchecks/2022/nov...</td>\n",
       "    </tr>\n",
       "    <tr>\n",
       "      <th>2</th>\n",
       "      <td>https://www.politifact.com/factchecks/2022/nov...</td>\n",
       "    </tr>\n",
       "    <tr>\n",
       "      <th>3</th>\n",
       "      <td>https://www.politifact.com/factchecks/2022/nov...</td>\n",
       "    </tr>\n",
       "    <tr>\n",
       "      <th>4</th>\n",
       "      <td>https://www.politifact.com/factchecks/2022/oct...</td>\n",
       "    </tr>\n",
       "    <tr>\n",
       "      <th>...</th>\n",
       "      <td>...</td>\n",
       "    </tr>\n",
       "    <tr>\n",
       "      <th>1397</th>\n",
       "      <td>https://www.politifact.com/factchecks/2020/jan...</td>\n",
       "    </tr>\n",
       "    <tr>\n",
       "      <th>1398</th>\n",
       "      <td>https://www.politifact.com/factchecks/2020/jan...</td>\n",
       "    </tr>\n",
       "    <tr>\n",
       "      <th>1399</th>\n",
       "      <td>https://www.politifact.com/factchecks/2020/jan...</td>\n",
       "    </tr>\n",
       "    <tr>\n",
       "      <th>1400</th>\n",
       "      <td>https://www.politifact.com/factchecks/2020/jan...</td>\n",
       "    </tr>\n",
       "    <tr>\n",
       "      <th>1401</th>\n",
       "      <td>https://www.politifact.com/factchecks/2020/jan...</td>\n",
       "    </tr>\n",
       "  </tbody>\n",
       "</table>\n",
       "<p>1402 rows × 1 columns</p>\n",
       "</div>"
      ],
      "text/plain": [
       "                                                    URL\n",
       "0     https://www.politifact.com/factchecks/2022/nov...\n",
       "1     https://www.politifact.com/factchecks/2022/nov...\n",
       "2     https://www.politifact.com/factchecks/2022/nov...\n",
       "3     https://www.politifact.com/factchecks/2022/nov...\n",
       "4     https://www.politifact.com/factchecks/2022/oct...\n",
       "...                                                 ...\n",
       "1397  https://www.politifact.com/factchecks/2020/jan...\n",
       "1398  https://www.politifact.com/factchecks/2020/jan...\n",
       "1399  https://www.politifact.com/factchecks/2020/jan...\n",
       "1400  https://www.politifact.com/factchecks/2020/jan...\n",
       "1401  https://www.politifact.com/factchecks/2020/jan...\n",
       "\n",
       "[1402 rows x 1 columns]"
      ]
     },
     "execution_count": 6,
     "metadata": {},
     "output_type": "execute_result"
    }
   ],
   "source": [
    "df = pd.DataFrame(list(zip(list_url_politifact)),\n",
    "               columns =['URL'])\n",
    "df"
   ]
  },
  {
   "cell_type": "code",
   "execution_count": 7,
   "id": "147c072c",
   "metadata": {},
   "outputs": [],
   "source": [
    "df.to_csv(r'C:\\Users\\seahm\\OneDrive\\京大社会健康\\研究課題\\scraper\\Politifact.csv', mode='a', index=False, header=False)"
   ]
  },
  {
   "cell_type": "code",
   "execution_count": null,
   "id": "be3b90f6",
   "metadata": {},
   "outputs": [],
   "source": []
  }
 ],
 "metadata": {
  "kernelspec": {
   "display_name": "Python 3 (ipykernel)",
   "language": "python",
   "name": "python3"
  },
  "language_info": {
   "codemirror_mode": {
    "name": "ipython",
    "version": 3
   },
   "file_extension": ".py",
   "mimetype": "text/x-python",
   "name": "python",
   "nbconvert_exporter": "python",
   "pygments_lexer": "ipython3",
   "version": "3.9.12"
  }
 },
 "nbformat": 4,
 "nbformat_minor": 5
}
