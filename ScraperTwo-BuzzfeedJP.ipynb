{
 "cells": [
  {
   "cell_type": "code",
   "execution_count": 1,
   "id": "16fdcfa5",
   "metadata": {},
   "outputs": [],
   "source": [
    "## The below code is used to download and install the required packages\n",
    "# List the packages required here\n",
    "required = {'pandas', 'numpy','requests',  'BeautifulSoup4', 'lxml', 'selenium', 'webdriver-manager'}\n",
    "\n",
    "import sys\n",
    "import subprocess\n",
    "import pkg_resources\n",
    "\n",
    "installed = {pkg.key for pkg in pkg_resources.working_set}\n",
    "missing = required - installed\n",
    "\n",
    "import os\n",
    "\n",
    "os.getcwd()\n",
    "\n",
    "if missing:\n",
    "    # implement pip as a subprocess:\n",
    "    subprocess.check_call([sys.executable, '-m', 'pip', 'install', *missing])\n",
    "\n",
    "del required, installed, missing"
   ]
  },
  {
   "cell_type": "code",
   "execution_count": 2,
   "id": "9fb32c38",
   "metadata": {},
   "outputs": [],
   "source": [
    "from bs4 import BeautifulSoup\n",
    "import requests\n",
    "import time\n",
    "import pandas as pd\n",
    "from webdriver_manager.chrome import ChromeDriverManager\n",
    "from selenium import webdriver\n",
    "from selenium.webdriver.common.keys import Keys\n",
    "from selenium.webdriver.common.by import By\n",
    "from selenium.webdriver.support.wait import WebDriverWait\n",
    "from selenium.webdriver.support import expected_conditions as EC\n",
    "from selenium.common.exceptions import NoSuchElementException"
   ]
  },
  {
   "cell_type": "code",
   "execution_count": 7,
   "id": "55b36713",
   "metadata": {
    "scrolled": true
   },
   "outputs": [
    {
     "name": "stderr",
     "output_type": "stream",
     "text": [
      "C:\\Users\\seahm\\AppData\\Local\\Temp\\ipykernel_14756\\1464432764.py:5: DeprecationWarning: executable_path has been deprecated, please pass in a Service object\n",
      "  driver = webdriver.Chrome(ChromeDriverManager().install())\n"
     ]
    }
   ],
   "source": [
    "total_clicks = 0\n",
    "site = 'https://www.buzzfeed.com/jp/badge/factcheckjp'\n",
    "list_url_buzzfeedjp = list()\n",
    "\n",
    "driver = webdriver.Chrome(ChromeDriverManager().install())\n",
    "driver.get(site)\n",
    "wait = WebDriverWait(driver,3)\n",
    "\n",
    "while total_clicks <= 1:\n",
    "\n",
    "    button = WebDriverWait(driver, 20).until(EC.element_to_be_clickable((By.XPATH, \"//button[contains(@class, 'js-feed-load-more button')]\")))\n",
    "    driver.execute_script('arguments[0].click()', button)\n",
    "    driver.execute_script(\"window.scrollTo(0, document.body.scrollHeight);\")\n",
    "        \n",
    "    total_clicks += 1\n",
    "        \n",
    "    time.sleep(4)"
   ]
  },
  {
   "cell_type": "code",
   "execution_count": 8,
   "id": "30518e7f",
   "metadata": {},
   "outputs": [],
   "source": [
    "url = driver.find_elements(By.XPATH, \"//h2[contains(@class, 'xs-mb05 xs-pt05 sm-pt0 xs-text-4 sm-text-2 bold')]/a\")\n",
    "for link in url:\n",
    "    list_url_buzzfeedjp.append(link.get_attribute(\"href\"))"
   ]
  },
  {
   "cell_type": "code",
   "execution_count": 10,
   "id": "524dd093",
   "metadata": {},
   "outputs": [
    {
     "data": {
      "text/html": [
       "<div>\n",
       "<style scoped>\n",
       "    .dataframe tbody tr th:only-of-type {\n",
       "        vertical-align: middle;\n",
       "    }\n",
       "\n",
       "    .dataframe tbody tr th {\n",
       "        vertical-align: top;\n",
       "    }\n",
       "\n",
       "    .dataframe thead th {\n",
       "        text-align: right;\n",
       "    }\n",
       "</style>\n",
       "<table border=\"1\" class=\"dataframe\">\n",
       "  <thead>\n",
       "    <tr style=\"text-align: right;\">\n",
       "      <th></th>\n",
       "      <th>URL</th>\n",
       "    </tr>\n",
       "  </thead>\n",
       "  <tbody>\n",
       "    <tr>\n",
       "      <th>0</th>\n",
       "      <td>https://www.buzzfeed.com/jp/kotahatachi/health...</td>\n",
       "    </tr>\n",
       "    <tr>\n",
       "      <th>1</th>\n",
       "      <td>https://www.buzzfeed.com/jp/keitaaimoto/covid-fc</td>\n",
       "    </tr>\n",
       "    <tr>\n",
       "      <th>2</th>\n",
       "      <td>https://www.buzzfeed.com/jp/yoshihirokando/rus...</td>\n",
       "    </tr>\n",
       "    <tr>\n",
       "      <th>3</th>\n",
       "      <td>https://www.buzzfeed.com/jp/kotahatachi/selfde...</td>\n",
       "    </tr>\n",
       "    <tr>\n",
       "      <th>4</th>\n",
       "      <td>https://www.buzzfeed.com/jp/kotahatachi/pfizer...</td>\n",
       "    </tr>\n",
       "    <tr>\n",
       "      <th>...</th>\n",
       "      <td>...</td>\n",
       "    </tr>\n",
       "    <tr>\n",
       "      <th>291</th>\n",
       "      <td>https://www.buzzfeed.com/jp/kotahatachi/fake-s...</td>\n",
       "    </tr>\n",
       "    <tr>\n",
       "      <th>292</th>\n",
       "      <td>https://www.buzzfeed.com/jp/kotahatachi/inthepark</td>\n",
       "    </tr>\n",
       "    <tr>\n",
       "      <th>293</th>\n",
       "      <td>https://www.buzzfeed.com/jp/ryosukekamba/momo</td>\n",
       "    </tr>\n",
       "    <tr>\n",
       "      <th>294</th>\n",
       "      <td>https://www.buzzfeed.com/jp/kotahatachi/kenmin...</td>\n",
       "    </tr>\n",
       "    <tr>\n",
       "      <th>295</th>\n",
       "      <td>https://www.buzzfeed.com/jp/keiyoshikawa/hatoy...</td>\n",
       "    </tr>\n",
       "  </tbody>\n",
       "</table>\n",
       "<p>296 rows × 1 columns</p>\n",
       "</div>"
      ],
      "text/plain": [
       "                                                   URL\n",
       "0    https://www.buzzfeed.com/jp/kotahatachi/health...\n",
       "1     https://www.buzzfeed.com/jp/keitaaimoto/covid-fc\n",
       "2    https://www.buzzfeed.com/jp/yoshihirokando/rus...\n",
       "3    https://www.buzzfeed.com/jp/kotahatachi/selfde...\n",
       "4    https://www.buzzfeed.com/jp/kotahatachi/pfizer...\n",
       "..                                                 ...\n",
       "291  https://www.buzzfeed.com/jp/kotahatachi/fake-s...\n",
       "292  https://www.buzzfeed.com/jp/kotahatachi/inthepark\n",
       "293      https://www.buzzfeed.com/jp/ryosukekamba/momo\n",
       "294  https://www.buzzfeed.com/jp/kotahatachi/kenmin...\n",
       "295  https://www.buzzfeed.com/jp/keiyoshikawa/hatoy...\n",
       "\n",
       "[296 rows x 1 columns]"
      ]
     },
     "execution_count": 10,
     "metadata": {},
     "output_type": "execute_result"
    }
   ],
   "source": [
    "df = pd.DataFrame(list(zip(list_url_buzzfeedjp)),\n",
    "               columns =['URL'])\n",
    "df"
   ]
  },
  {
   "cell_type": "code",
   "execution_count": 11,
   "id": "147c072c",
   "metadata": {},
   "outputs": [],
   "source": [
    "df.to_csv(r'C:\\Users\\seahm\\OneDrive\\京大社会健康\\研究課題\\scraper\\BuzzfeedJP.csv', mode='a', index=False, header=False)"
   ]
  },
  {
   "cell_type": "code",
   "execution_count": null,
   "id": "be3b90f6",
   "metadata": {},
   "outputs": [],
   "source": []
  }
 ],
 "metadata": {
  "kernelspec": {
   "display_name": "Python 3 (ipykernel)",
   "language": "python",
   "name": "python3"
  },
  "language_info": {
   "codemirror_mode": {
    "name": "ipython",
    "version": 3
   },
   "file_extension": ".py",
   "mimetype": "text/x-python",
   "name": "python",
   "nbconvert_exporter": "python",
   "pygments_lexer": "ipython3",
   "version": "3.9.12"
  }
 },
 "nbformat": 4,
 "nbformat_minor": 5
}
